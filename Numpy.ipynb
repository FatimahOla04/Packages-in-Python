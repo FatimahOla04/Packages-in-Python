{
 "cells": [
  {
   "cell_type": "code",
   "execution_count": 1,
   "id": "29115308",
   "metadata": {},
   "outputs": [],
   "source": [
    "# how to install\n",
    "#pip install numpy"
   ]
  },
  {
   "cell_type": "code",
   "execution_count": 2,
   "id": "7ef02e1d",
   "metadata": {},
   "outputs": [],
   "source": [
    "# importing numpy before using\n",
    "import numpy as np"
   ]
  },
  {
   "cell_type": "code",
   "execution_count": 3,
   "id": "efb65522",
   "metadata": {},
   "outputs": [
    {
     "data": {
      "text/plain": [
       "array([1, 4, 5, 6, 1, 7])"
      ]
     },
     "execution_count": 3,
     "metadata": {},
     "output_type": "execute_result"
    }
   ],
   "source": [
    "# creating one dimensional array from one dimension list\n",
    "list1 = [1, 4, 5, 6, 1, 7]\n",
    "arry1 = np.array(list1)\n",
    "arry1"
   ]
  },
  {
   "cell_type": "code",
   "execution_count": 4,
   "id": "7e518e8a",
   "metadata": {},
   "outputs": [
    {
     "data": {
      "text/plain": [
       "numpy.ndarray"
      ]
     },
     "execution_count": 4,
     "metadata": {},
     "output_type": "execute_result"
    }
   ],
   "source": [
    "# checking the type of array\n",
    "type(arry1)"
   ]
  },
  {
   "cell_type": "code",
   "execution_count": 8,
   "id": "51f969d9",
   "metadata": {},
   "outputs": [
    {
     "data": {
      "text/plain": [
       "array([[ 5,  7,  0, 10, 12, 45]])"
      ]
     },
     "execution_count": 8,
     "metadata": {},
     "output_type": "execute_result"
    }
   ],
   "source": [
    "# creating two dimensional array from two dimensional list\n",
    "list2 = [[5, 7, 0, 10, 12, 45]]\n",
    "arry2 = np.array(list2)\n",
    "arry2"
   ]
  },
  {
   "cell_type": "code",
   "execution_count": 9,
   "id": "426f1173",
   "metadata": {},
   "outputs": [
    {
     "data": {
      "text/plain": [
       "2"
      ]
     },
     "execution_count": 9,
     "metadata": {},
     "output_type": "execute_result"
    }
   ],
   "source": [
    "# to check the dimension of array\n",
    "arry2.ndim"
   ]
  },
  {
   "cell_type": "code",
   "execution_count": 10,
   "id": "d10e63e2",
   "metadata": {},
   "outputs": [
    {
     "data": {
      "text/plain": [
       "array([[[ 5.+0.j,  7.+0.j,  0.+0.j, 10.+0.j, 12.+0.j, 45.+0.j]]])"
      ]
     },
     "execution_count": 10,
     "metadata": {},
     "output_type": "execute_result"
    }
   ],
   "source": [
    "# creating three dimensional array frome one dimension list\n",
    "list2 = [5, 7, 0, 10, 12, 45]\n",
    "arry3 = np.array(list2, ndmin=3, dtype=\"complex\")\n",
    "arry3"
   ]
  },
  {
   "cell_type": "markdown",
   "id": "d91d699c",
   "metadata": {},
   "source": [
    "# Exercise\n",
    "Create numpy of three dimensions and integer data type from the list below\n",
    "[2,4,5,22,8,54,22]"
   ]
  },
  {
   "cell_type": "code",
   "execution_count": 12,
   "id": "b09cbd8d",
   "metadata": {},
   "outputs": [
    {
     "data": {
      "text/plain": [
       "array([[[ 2,  4,  5, 22,  8, 54, 22]]])"
      ]
     },
     "execution_count": 12,
     "metadata": {},
     "output_type": "execute_result"
    }
   ],
   "source": [
    "list3 =  [2,4,5,22,8,54,22]\n",
    "arry4 = np.array(list3, ndmin=3, dtype=\"int\")\n",
    "arry4"
   ]
  },
  {
   "cell_type": "code",
   "execution_count": 13,
   "id": "6af0fe1c",
   "metadata": {},
   "outputs": [
    {
     "data": {
      "text/plain": [
       "array([ 0,  1,  2,  3,  4,  5,  6,  7,  8,  9, 10])"
      ]
     },
     "execution_count": 13,
     "metadata": {},
     "output_type": "execute_result"
    }
   ],
   "source": [
    "# 4 NumPy - Array from Numerical Ranges\n",
    "# numpy.arange(start, stop, step, dtype)\n",
    "np.arange(0, 11)"
   ]
  },
  {
   "cell_type": "code",
   "execution_count": 14,
   "id": "054fc27e",
   "metadata": {},
   "outputs": [
    {
     "data": {
      "text/plain": [
       "array([ 0,  2,  4,  6,  8, 10])"
      ]
     },
     "execution_count": 14,
     "metadata": {},
     "output_type": "execute_result"
    }
   ],
   "source": [
    "np.arange(0, 11,2)"
   ]
  },
  {
   "cell_type": "code",
   "execution_count": 15,
   "id": "71006642",
   "metadata": {},
   "outputs": [
    {
     "data": {
      "text/plain": [
       "array([10., 20., 30., 40.])"
      ]
     },
     "execution_count": 15,
     "metadata": {},
     "output_type": "execute_result"
    }
   ],
   "source": [
    "# creating array using linspace\n",
    "# numpy.linspace(start, stop, num, endpoint, dtype)\n",
    "np.linspace(10, 50, 4, endpoint=False)"
   ]
  },
  {
   "cell_type": "markdown",
   "id": "7ce5ca45",
   "metadata": {},
   "source": [
    "# Exercise\n",
    "2. Create numpy array of object data type containing just 8 element within 10 and 90.endpoint should be excluded\n",
    "3. create numpy of int data type from 7 to 70 with interval of 8"
   ]
  },
  {
   "cell_type": "code",
   "execution_count": 21,
   "id": "e8f08cd9",
   "metadata": {},
   "outputs": [
    {
     "data": {
      "text/plain": [
       "array([10.0, 20.0, 30.0, 40.0, 50.0, 60.0, 70.0, 80.0], dtype=object)"
      ]
     },
     "execution_count": 21,
     "metadata": {},
     "output_type": "execute_result"
    }
   ],
   "source": [
    "np.linspace(10,90,8, endpoint=False, dtype=object)"
   ]
  },
  {
   "cell_type": "code",
   "execution_count": 23,
   "id": "db243870",
   "metadata": {},
   "outputs": [
    {
     "data": {
      "text/plain": [
       "array([ 7, 15, 23, 31, 39, 47, 55, 63])"
      ]
     },
     "execution_count": 23,
     "metadata": {},
     "output_type": "execute_result"
    }
   ],
   "source": [
    "np.arange(7,71, 8, dtype=int)"
   ]
  },
  {
   "cell_type": "markdown",
   "id": "3b88ef01",
   "metadata": {},
   "source": [
    "# Attribute of Array;\n",
    "\n",
    "- Shape: It gives no of element in each of the dimension"
   ]
  },
  {
   "cell_type": "code",
   "execution_count": 25,
   "id": "9037152e",
   "metadata": {},
   "outputs": [
    {
     "data": {
      "text/plain": [
       "(2, 3, 2)"
      ]
     },
     "execution_count": 25,
     "metadata": {},
     "output_type": "execute_result"
    }
   ],
   "source": [
    "# how to check the shape of the arr\n",
    "arry5 = np.array([[[2, 5],\n",
    "         [8, 3],\n",
    "         [6, 4]],\n",
    "        \n",
    "         [[1, 6],\n",
    "         [4, 0],\n",
    "         [4, 5]]])\n",
    "\n",
    "arry5.shape"
   ]
  },
  {
   "cell_type": "code",
   "execution_count": 26,
   "id": "23996cbf",
   "metadata": {},
   "outputs": [
    {
     "data": {
      "text/plain": [
       "(8,)"
      ]
     },
     "execution_count": 26,
     "metadata": {},
     "output_type": "execute_result"
    }
   ],
   "source": [
    "arry6 = np.arange(7, 71, 8, dtype=int)\n",
    "arry6.shape"
   ]
  },
  {
   "cell_type": "code",
   "execution_count": 28,
   "id": "da643315",
   "metadata": {},
   "outputs": [
    {
     "data": {
      "text/plain": [
       "(5, 4)"
      ]
     },
     "execution_count": 28,
     "metadata": {},
     "output_type": "execute_result"
    }
   ],
   "source": [
    "arry7=np.array([[2, 6, 7, 8],\n",
    "               [2, 6, 7, 8],\n",
    "               [2, 6, 7, 8],\n",
    "               [2, 6, 7, 8],\n",
    "               [2, 6, 7, 8]])\n",
    "arry7.shape"
   ]
  },
  {
   "cell_type": "code",
   "execution_count": 31,
   "id": "260f1581",
   "metadata": {},
   "outputs": [
    {
     "name": "stdout",
     "output_type": "stream",
     "text": [
      "[ 7 11 15 19 23 27 31 35 39 43 47 51 55 59 63 67]\n"
     ]
    },
    {
     "data": {
      "text/plain": [
       "(16,)"
      ]
     },
     "execution_count": 31,
     "metadata": {},
     "output_type": "execute_result"
    }
   ],
   "source": [
    "#reshaping the shape of array **`2 ReShape()`**\n",
    "arry8 = np.arange(7, 71, 4, dtype=int)\n",
    "print(arry8)\n",
    "arry8.shape"
   ]
  },
  {
   "cell_type": "code",
   "execution_count": 30,
   "id": "4d5a50c5",
   "metadata": {},
   "outputs": [
    {
     "data": {
      "text/plain": [
       "(4, 4)"
      ]
     },
     "execution_count": 30,
     "metadata": {},
     "output_type": "execute_result"
    }
   ],
   "source": [
    "arry_reshape=arry8.reshape(4, 4)\n",
    "arry_reshape.shape"
   ]
  },
  {
   "cell_type": "code",
   "execution_count": 32,
   "id": "42838290",
   "metadata": {},
   "outputs": [],
   "source": [
    "# indexing and slicing\n"
   ]
  },
  {
   "cell_type": "code",
   "execution_count": 43,
   "id": "9c7648f7",
   "metadata": {},
   "outputs": [
    {
     "data": {
      "text/plain": [
       "[15, 27, 39, 51]"
      ]
     },
     "execution_count": 43,
     "metadata": {},
     "output_type": "execute_result"
    }
   ],
   "source": [
    "num1 = [ 7, 11, 15, 19, 23, 27, 31, 35, 39, 43, 47, 51, 55, 59, 63, 67]\n",
    "num1[2:14:3]"
   ]
  },
  {
   "cell_type": "code",
   "execution_count": 37,
   "id": "5c64772b",
   "metadata": {},
   "outputs": [],
   "source": [
    "# Boolean indexing"
   ]
  },
  {
   "cell_type": "code",
   "execution_count": 38,
   "id": "960e7940",
   "metadata": {},
   "outputs": [
    {
     "data": {
      "text/plain": [
       "array([31, 35, 39, 43, 47, 51, 55, 59, 63, 67])"
      ]
     },
     "execution_count": 38,
     "metadata": {},
     "output_type": "execute_result"
    }
   ],
   "source": [
    "# to filter all element less than 30\n",
    "arry8[ arry8>30]"
   ]
  },
  {
   "cell_type": "code",
   "execution_count": 41,
   "id": "52b59802",
   "metadata": {},
   "outputs": [
    {
     "data": {
      "text/plain": [
       "(16, 1, 1, 1)"
      ]
     },
     "execution_count": 41,
     "metadata": {},
     "output_type": "execute_result"
    }
   ],
   "source": [
    "# `np.flatten()` changing the dimension of array into one\n",
    "arry_reshape=arry8.reshape(16, 1, 1, 1)\n",
    "arry_reshape.shape"
   ]
  },
  {
   "cell_type": "code",
   "execution_count": 42,
   "id": "942a1aba",
   "metadata": {},
   "outputs": [
    {
     "data": {
      "text/plain": [
       "(16,)"
      ]
     },
     "execution_count": 42,
     "metadata": {},
     "output_type": "execute_result"
    }
   ],
   "source": [
    "arry_reshape.flatten().shape"
   ]
  },
  {
   "cell_type": "code",
   "execution_count": null,
   "id": "3f669fae",
   "metadata": {},
   "outputs": [],
   "source": []
  }
 ],
 "metadata": {
  "kernelspec": {
   "display_name": "Python 3 (ipykernel)",
   "language": "python",
   "name": "python3"
  },
  "language_info": {
   "codemirror_mode": {
    "name": "ipython",
    "version": 3
   },
   "file_extension": ".py",
   "mimetype": "text/x-python",
   "name": "python",
   "nbconvert_exporter": "python",
   "pygments_lexer": "ipython3",
   "version": "3.9.13"
  }
 },
 "nbformat": 4,
 "nbformat_minor": 5
}
